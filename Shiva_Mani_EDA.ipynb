{
 "cells": [
  {
   "cell_type": "markdown",
   "metadata": {},
   "source": [
    "Data Science Assignment: eCommerce\n",
    "Transactions Dataset"
   ]
  },
  {
   "cell_type": "code",
   "execution_count": 126,
   "metadata": {},
   "outputs": [],
   "source": [
    "import pandas as pd\n",
    "import numpy as np\n",
    "import matplotlib.pyplot as plt\n",
    "import seaborn as sns\n",
    "%matplotlib inline\n",
    "\n"
   ]
  },
  {
   "cell_type": "code",
   "execution_count": 128,
   "metadata": {},
   "outputs": [
    {
     "data": {
      "text/html": [
       "<div>\n",
       "<style scoped>\n",
       "    .dataframe tbody tr th:only-of-type {\n",
       "        vertical-align: middle;\n",
       "    }\n",
       "\n",
       "    .dataframe tbody tr th {\n",
       "        vertical-align: top;\n",
       "    }\n",
       "\n",
       "    .dataframe thead th {\n",
       "        text-align: right;\n",
       "    }\n",
       "</style>\n",
       "<table border=\"1\" class=\"dataframe\">\n",
       "  <thead>\n",
       "    <tr style=\"text-align: right;\">\n",
       "      <th></th>\n",
       "      <th>CustomerID</th>\n",
       "      <th>CustomerName</th>\n",
       "      <th>Region</th>\n",
       "      <th>SignupDate</th>\n",
       "    </tr>\n",
       "  </thead>\n",
       "  <tbody>\n",
       "    <tr>\n",
       "      <th>0</th>\n",
       "      <td>C0001</td>\n",
       "      <td>Lawrence Carroll</td>\n",
       "      <td>South America</td>\n",
       "      <td>10-07-2022</td>\n",
       "    </tr>\n",
       "    <tr>\n",
       "      <th>1</th>\n",
       "      <td>C0002</td>\n",
       "      <td>Elizabeth Lutz</td>\n",
       "      <td>Asia</td>\n",
       "      <td>13-02-2022</td>\n",
       "    </tr>\n",
       "    <tr>\n",
       "      <th>2</th>\n",
       "      <td>C0003</td>\n",
       "      <td>Michael Rivera</td>\n",
       "      <td>South America</td>\n",
       "      <td>07-03-2024</td>\n",
       "    </tr>\n",
       "    <tr>\n",
       "      <th>3</th>\n",
       "      <td>C0004</td>\n",
       "      <td>Kathleen Rodriguez</td>\n",
       "      <td>South America</td>\n",
       "      <td>09-10-2022</td>\n",
       "    </tr>\n",
       "    <tr>\n",
       "      <th>4</th>\n",
       "      <td>C0005</td>\n",
       "      <td>Laura Weber</td>\n",
       "      <td>Asia</td>\n",
       "      <td>15-08-2022</td>\n",
       "    </tr>\n",
       "  </tbody>\n",
       "</table>\n",
       "</div>"
      ],
      "text/plain": [
       "  CustomerID        CustomerName         Region  SignupDate\n",
       "0      C0001    Lawrence Carroll  South America  10-07-2022\n",
       "1      C0002      Elizabeth Lutz           Asia  13-02-2022\n",
       "2      C0003      Michael Rivera  South America  07-03-2024\n",
       "3      C0004  Kathleen Rodriguez  South America  09-10-2022\n",
       "4      C0005         Laura Weber           Asia  15-08-2022"
      ]
     },
     "execution_count": 128,
     "metadata": {},
     "output_type": "execute_result"
    }
   ],
   "source": [
    "# Load datasets\n",
    "customers=pd.read_csv(\"Customers.csv\")\n",
    "customers.head()"
   ]
  },
  {
   "cell_type": "code",
   "execution_count": 129,
   "metadata": {},
   "outputs": [
    {
     "data": {
      "text/plain": [
       "Index(['CustomerID', 'CustomerName', 'Region', 'SignupDate'], dtype='object')"
      ]
     },
     "execution_count": 129,
     "metadata": {},
     "output_type": "execute_result"
    }
   ],
   "source": [
    "customers.columns"
   ]
  },
  {
   "cell_type": "code",
   "execution_count": 130,
   "metadata": {},
   "outputs": [
    {
     "name": "stdout",
     "output_type": "stream",
     "text": [
      "<class 'pandas.core.frame.DataFrame'>\n",
      "RangeIndex: 200 entries, 0 to 199\n",
      "Data columns (total 4 columns):\n",
      " #   Column        Non-Null Count  Dtype \n",
      "---  ------        --------------  ----- \n",
      " 0   CustomerID    200 non-null    object\n",
      " 1   CustomerName  200 non-null    object\n",
      " 2   Region        200 non-null    object\n",
      " 3   SignupDate    200 non-null    object\n",
      "dtypes: object(4)\n",
      "memory usage: 6.4+ KB\n"
     ]
    },
    {
     "data": {
      "text/plain": [
       "<bound method NDFrame.describe of     CustomerID        CustomerName         Region  SignupDate\n",
       "0        C0001    Lawrence Carroll  South America  10-07-2022\n",
       "1        C0002      Elizabeth Lutz           Asia  13-02-2022\n",
       "2        C0003      Michael Rivera  South America  07-03-2024\n",
       "3        C0004  Kathleen Rodriguez  South America  09-10-2022\n",
       "4        C0005         Laura Weber           Asia  15-08-2022\n",
       "..         ...                 ...            ...         ...\n",
       "195      C0196         Laura Watts         Europe  07-06-2022\n",
       "196      C0197    Christina Harvey         Europe  21-03-2023\n",
       "197      C0198         Rebecca Ray         Europe  27-02-2022\n",
       "198      C0199      Andrea Jenkins         Europe  03-12-2022\n",
       "199      C0200         Kelly Cross           Asia  11-06-2023\n",
       "\n",
       "[200 rows x 4 columns]>"
      ]
     },
     "execution_count": 130,
     "metadata": {},
     "output_type": "execute_result"
    }
   ],
   "source": [
    "customers.info()\n",
    "#\n",
    "customers.describe"
   ]
  },
  {
   "cell_type": "code",
   "execution_count": 131,
   "metadata": {},
   "outputs": [
    {
     "data": {
      "text/html": [
       "<div>\n",
       "<style scoped>\n",
       "    .dataframe tbody tr th:only-of-type {\n",
       "        vertical-align: middle;\n",
       "    }\n",
       "\n",
       "    .dataframe tbody tr th {\n",
       "        vertical-align: top;\n",
       "    }\n",
       "\n",
       "    .dataframe thead th {\n",
       "        text-align: right;\n",
       "    }\n",
       "</style>\n",
       "<table border=\"1\" class=\"dataframe\">\n",
       "  <thead>\n",
       "    <tr style=\"text-align: right;\">\n",
       "      <th></th>\n",
       "      <th>ProductID</th>\n",
       "      <th>ProductName</th>\n",
       "      <th>Category</th>\n",
       "      <th>Price</th>\n",
       "    </tr>\n",
       "  </thead>\n",
       "  <tbody>\n",
       "    <tr>\n",
       "      <th>0</th>\n",
       "      <td>P001</td>\n",
       "      <td>ActiveWear Biography</td>\n",
       "      <td>Books</td>\n",
       "      <td>169.30</td>\n",
       "    </tr>\n",
       "    <tr>\n",
       "      <th>1</th>\n",
       "      <td>P002</td>\n",
       "      <td>ActiveWear Smartwatch</td>\n",
       "      <td>Electronics</td>\n",
       "      <td>346.30</td>\n",
       "    </tr>\n",
       "    <tr>\n",
       "      <th>2</th>\n",
       "      <td>P003</td>\n",
       "      <td>ComfortLiving Biography</td>\n",
       "      <td>Books</td>\n",
       "      <td>44.12</td>\n",
       "    </tr>\n",
       "    <tr>\n",
       "      <th>3</th>\n",
       "      <td>P004</td>\n",
       "      <td>BookWorld Rug</td>\n",
       "      <td>Home Decor</td>\n",
       "      <td>95.69</td>\n",
       "    </tr>\n",
       "    <tr>\n",
       "      <th>4</th>\n",
       "      <td>P005</td>\n",
       "      <td>TechPro T-Shirt</td>\n",
       "      <td>Clothing</td>\n",
       "      <td>429.31</td>\n",
       "    </tr>\n",
       "  </tbody>\n",
       "</table>\n",
       "</div>"
      ],
      "text/plain": [
       "  ProductID              ProductName     Category   Price\n",
       "0      P001     ActiveWear Biography        Books  169.30\n",
       "1      P002    ActiveWear Smartwatch  Electronics  346.30\n",
       "2      P003  ComfortLiving Biography        Books   44.12\n",
       "3      P004            BookWorld Rug   Home Decor   95.69\n",
       "4      P005          TechPro T-Shirt     Clothing  429.31"
      ]
     },
     "execution_count": 131,
     "metadata": {},
     "output_type": "execute_result"
    }
   ],
   "source": [
    "products=pd.read_csv(\"Products.csv\")\n",
    "products.head()"
   ]
  },
  {
   "cell_type": "code",
   "execution_count": 132,
   "metadata": {},
   "outputs": [
    {
     "data": {
      "text/plain": [
       "Index(['ProductID', 'ProductName', 'Category', 'Price'], dtype='object')"
      ]
     },
     "execution_count": 132,
     "metadata": {},
     "output_type": "execute_result"
    }
   ],
   "source": [
    "products.columns\n",
    "#products.info()"
   ]
  },
  {
   "cell_type": "code",
   "execution_count": 133,
   "metadata": {},
   "outputs": [
    {
     "data": {
      "text/plain": [
       "<bound method NDFrame.describe of    ProductID              ProductName     Category   Price\n",
       "0       P001     ActiveWear Biography        Books  169.30\n",
       "1       P002    ActiveWear Smartwatch  Electronics  346.30\n",
       "2       P003  ComfortLiving Biography        Books   44.12\n",
       "3       P004            BookWorld Rug   Home Decor   95.69\n",
       "4       P005          TechPro T-Shirt     Clothing  429.31\n",
       "..       ...                      ...          ...     ...\n",
       "95      P096     SoundWave Headphones  Electronics  307.47\n",
       "96      P097       BookWorld Cookbook        Books  319.34\n",
       "97      P098         SoundWave Laptop  Electronics  299.93\n",
       "98      P099   SoundWave Mystery Book        Books  354.29\n",
       "99      P100        HomeSense Sweater     Clothing  126.34\n",
       "\n",
       "[100 rows x 4 columns]>"
      ]
     },
     "execution_count": 133,
     "metadata": {},
     "output_type": "execute_result"
    }
   ],
   "source": [
    "products.describe"
   ]
  },
  {
   "cell_type": "code",
   "execution_count": 134,
   "metadata": {},
   "outputs": [
    {
     "data": {
      "text/html": [
       "<div>\n",
       "<style scoped>\n",
       "    .dataframe tbody tr th:only-of-type {\n",
       "        vertical-align: middle;\n",
       "    }\n",
       "\n",
       "    .dataframe tbody tr th {\n",
       "        vertical-align: top;\n",
       "    }\n",
       "\n",
       "    .dataframe thead th {\n",
       "        text-align: right;\n",
       "    }\n",
       "</style>\n",
       "<table border=\"1\" class=\"dataframe\">\n",
       "  <thead>\n",
       "    <tr style=\"text-align: right;\">\n",
       "      <th></th>\n",
       "      <th>TransactionID</th>\n",
       "      <th>CustomerID</th>\n",
       "      <th>ProductID</th>\n",
       "      <th>TransactionDate</th>\n",
       "      <th>Quantity</th>\n",
       "      <th>TotalValue</th>\n",
       "      <th>Price</th>\n",
       "    </tr>\n",
       "  </thead>\n",
       "  <tbody>\n",
       "    <tr>\n",
       "      <th>0</th>\n",
       "      <td>T00001</td>\n",
       "      <td>C0199</td>\n",
       "      <td>P067</td>\n",
       "      <td>25-08-2024 12:38</td>\n",
       "      <td>1</td>\n",
       "      <td>300.68</td>\n",
       "      <td>300.68</td>\n",
       "    </tr>\n",
       "    <tr>\n",
       "      <th>1</th>\n",
       "      <td>T00112</td>\n",
       "      <td>C0146</td>\n",
       "      <td>P067</td>\n",
       "      <td>27-05-2024 22:23</td>\n",
       "      <td>1</td>\n",
       "      <td>300.68</td>\n",
       "      <td>300.68</td>\n",
       "    </tr>\n",
       "    <tr>\n",
       "      <th>2</th>\n",
       "      <td>T00166</td>\n",
       "      <td>C0127</td>\n",
       "      <td>P067</td>\n",
       "      <td>25-04-2024 07:38</td>\n",
       "      <td>1</td>\n",
       "      <td>300.68</td>\n",
       "      <td>300.68</td>\n",
       "    </tr>\n",
       "    <tr>\n",
       "      <th>3</th>\n",
       "      <td>T00272</td>\n",
       "      <td>C0087</td>\n",
       "      <td>P067</td>\n",
       "      <td>26-03-2024 22:55</td>\n",
       "      <td>2</td>\n",
       "      <td>601.36</td>\n",
       "      <td>300.68</td>\n",
       "    </tr>\n",
       "    <tr>\n",
       "      <th>4</th>\n",
       "      <td>T00363</td>\n",
       "      <td>C0070</td>\n",
       "      <td>P067</td>\n",
       "      <td>21-03-2024 15:10</td>\n",
       "      <td>3</td>\n",
       "      <td>902.04</td>\n",
       "      <td>300.68</td>\n",
       "    </tr>\n",
       "  </tbody>\n",
       "</table>\n",
       "</div>"
      ],
      "text/plain": [
       "  TransactionID CustomerID ProductID   TransactionDate  Quantity  TotalValue  \\\n",
       "0        T00001      C0199      P067  25-08-2024 12:38         1      300.68   \n",
       "1        T00112      C0146      P067  27-05-2024 22:23         1      300.68   \n",
       "2        T00166      C0127      P067  25-04-2024 07:38         1      300.68   \n",
       "3        T00272      C0087      P067  26-03-2024 22:55         2      601.36   \n",
       "4        T00363      C0070      P067  21-03-2024 15:10         3      902.04   \n",
       "\n",
       "    Price  \n",
       "0  300.68  \n",
       "1  300.68  \n",
       "2  300.68  \n",
       "3  300.68  \n",
       "4  300.68  "
      ]
     },
     "execution_count": 134,
     "metadata": {},
     "output_type": "execute_result"
    }
   ],
   "source": [
    "transcations=pd.read_csv(\"Transactions.csv\")\n",
    "transcations.head()"
   ]
  },
  {
   "cell_type": "code",
   "execution_count": 135,
   "metadata": {},
   "outputs": [
    {
     "name": "stdout",
     "output_type": "stream",
     "text": [
      "<class 'pandas.core.frame.DataFrame'>\n",
      "RangeIndex: 1000 entries, 0 to 999\n",
      "Data columns (total 7 columns):\n",
      " #   Column           Non-Null Count  Dtype  \n",
      "---  ------           --------------  -----  \n",
      " 0   TransactionID    1000 non-null   object \n",
      " 1   CustomerID       1000 non-null   object \n",
      " 2   ProductID        1000 non-null   object \n",
      " 3   TransactionDate  1000 non-null   object \n",
      " 4   Quantity         1000 non-null   int64  \n",
      " 5   TotalValue       1000 non-null   float64\n",
      " 6   Price            1000 non-null   float64\n",
      "dtypes: float64(2), int64(1), object(4)\n",
      "memory usage: 54.8+ KB\n"
     ]
    },
    {
     "data": {
      "text/plain": [
       "<bound method NDFrame.describe of     TransactionID CustomerID ProductID   TransactionDate  Quantity  \\\n",
       "0          T00001      C0199      P067  25-08-2024 12:38         1   \n",
       "1          T00112      C0146      P067  27-05-2024 22:23         1   \n",
       "2          T00166      C0127      P067  25-04-2024 07:38         1   \n",
       "3          T00272      C0087      P067  26-03-2024 22:55         2   \n",
       "4          T00363      C0070      P067  21-03-2024 15:10         3   \n",
       "..            ...        ...       ...               ...       ...   \n",
       "995        T00496      C0118      P037  24-10-2024 08:30         1   \n",
       "996        T00759      C0059      P037  04-06-2024 02:15         3   \n",
       "997        T00922      C0018      P037  05-04-2024 13:05         4   \n",
       "998        T00959      C0115      P037  29-09-2024 10:16         2   \n",
       "999        T00992      C0024      P037  21-04-2024 10:52         1   \n",
       "\n",
       "     TotalValue   Price  \n",
       "0        300.68  300.68  \n",
       "1        300.68  300.68  \n",
       "2        300.68  300.68  \n",
       "3        601.36  300.68  \n",
       "4        902.04  300.68  \n",
       "..          ...     ...  \n",
       "995      459.86  459.86  \n",
       "996     1379.58  459.86  \n",
       "997     1839.44  459.86  \n",
       "998      919.72  459.86  \n",
       "999      459.86  459.86  \n",
       "\n",
       "[1000 rows x 7 columns]>"
      ]
     },
     "execution_count": 135,
     "metadata": {},
     "output_type": "execute_result"
    }
   ],
   "source": [
    "transcations.info()\n",
    "#transcations.columns\n",
    "transcations.describe"
   ]
  },
  {
   "cell_type": "markdown",
   "metadata": {},
   "source": [
    "2. CHECKING FOR MISSING VALUES"
   ]
  },
  {
   "cell_type": "code",
   "execution_count": 136,
   "metadata": {},
   "outputs": [
    {
     "data": {
      "text/plain": [
       "CustomerID      0\n",
       "CustomerName    0\n",
       "Region          0\n",
       "SignupDate      0\n",
       "dtype: int64"
      ]
     },
     "execution_count": 136,
     "metadata": {},
     "output_type": "execute_result"
    }
   ],
   "source": [
    "customers.isnull().sum()"
   ]
  },
  {
   "cell_type": "code",
   "execution_count": 137,
   "metadata": {},
   "outputs": [
    {
     "data": {
      "text/plain": [
       "(200, 4)"
      ]
     },
     "execution_count": 137,
     "metadata": {},
     "output_type": "execute_result"
    }
   ],
   "source": [
    "customers.shape"
   ]
  },
  {
   "cell_type": "code",
   "execution_count": 138,
   "metadata": {},
   "outputs": [
    {
     "data": {
      "text/plain": [
       "<Axes: >"
      ]
     },
     "execution_count": 138,
     "metadata": {},
     "output_type": "execute_result"
    },
    {
     "data": {
      "image/png": "[encoded data removed]",
      "text/plain": [
       "<Figure size 640x480 with 1 Axes>"
      ]
     },
     "metadata": {},
     "output_type": "display_data"
    }
   ],
   "source": [
    "sns.heatmap(customers.isnull(),yticklabels=False, cbar=False, cmap='cividis')"
   ]
  },
  {
   "cell_type": "code",
   "execution_count": 140,
   "metadata": {},
   "outputs": [
    {
     "data": {
      "text/plain": [
       "(100, 4)"
      ]
     },
     "execution_count": 140,
     "metadata": {},
     "output_type": "execute_result"
    }
   ],
   "source": [
    "products.shape"
   ]
  },
  {
   "cell_type": "code",
   "execution_count": 142,
   "metadata": {},
   "outputs": [
    {
     "data": {
      "text/plain": [
       "ProductID      0\n",
       "ProductName    0\n",
       "Category       0\n",
       "Price          0\n",
       "dtype: int64"
      ]
     },
     "execution_count": 142,
     "metadata": {},
     "output_type": "execute_result"
    }
   ],
   "source": [
    "products.isnull().sum()"
   ]
  },
  {
   "cell_type": "code",
   "execution_count": 143,
   "metadata": {},
   "outputs": [
    {
     "data": {
      "text/plain": [
       "<Axes: >"
      ]
     },
     "execution_count": 143,
     "metadata": {},
     "output_type": "execute_result"
    },
    {
     "data": {
      "image/png": "[encoded data removed]",
      "text/plain": [
       "<Figure size 640x480 with 1 Axes>"
      ]
     },
     "metadata": {},
     "output_type": "display_data"
    }
   ],
   "source": [
    "sns.heatmap(products.isnull(),yticklabels=False, cbar=False, cmap='viridis')"
   ]
  },
  {
   "cell_type": "code",
   "execution_count": 144,
   "metadata": {},
   "outputs": [
    {
     "data": {
      "text/plain": [
       "(1000, 7)"
      ]
     },
     "execution_count": 144,
     "metadata": {},
     "output_type": "execute_result"
    }
   ],
   "source": [
    "transcations.shape"
   ]
  },
  {
   "cell_type": "code",
   "execution_count": 145,
   "metadata": {},
   "outputs": [
    {
     "data": {
      "text/plain": [
       "TransactionID      0\n",
       "CustomerID         0\n",
       "ProductID          0\n",
       "TransactionDate    0\n",
       "Quantity           0\n",
       "TotalValue         0\n",
       "Price              0\n",
       "dtype: int64"
      ]
     },
     "execution_count": 145,
     "metadata": {},
     "output_type": "execute_result"
    }
   ],
   "source": [
    "transcations.isnull().sum()"
   ]
  },
  {
   "cell_type": "code",
   "execution_count": 146,
   "metadata": {},
   "outputs": [
    {
     "data": {
      "text/plain": [
       "0    10-07-2022\n",
       "1    13-02-2022\n",
       "2    07-03-2024\n",
       "3    09-10-2022\n",
       "4    15-08-2022\n",
       "Name: SignupDate, dtype: object"
      ]
     },
     "execution_count": 146,
     "metadata": {},
     "output_type": "execute_result"
    }
   ],
   "source": [
    "customers['SignupDate'].head()"
   ]
  },
  {
   "cell_type": "markdown",
   "metadata": {},
   "source": [
    "3. CONVERTING 'SIGNUPDATE' TO DATETIME"
   ]
  },
  {
   "cell_type": "code",
   "execution_count": 147,
   "metadata": {},
   "outputs": [
    {
     "data": {
      "text/html": [
       "<div>\n",
       "<style scoped>\n",
       "    .dataframe tbody tr th:only-of-type {\n",
       "        vertical-align: middle;\n",
       "    }\n",
       "\n",
       "    .dataframe tbody tr th {\n",
       "        vertical-align: top;\n",
       "    }\n",
       "\n",
       "    .dataframe thead th {\n",
       "        text-align: right;\n",
       "    }\n",
       "</style>\n",
       "<table border=\"1\" class=\"dataframe\">\n",
       "  <thead>\n",
       "    <tr style=\"text-align: right;\">\n",
       "      <th></th>\n",
       "      <th>CustomerID</th>\n",
       "      <th>CustomerName</th>\n",
       "      <th>Region</th>\n",
       "      <th>SignupDate</th>\n",
       "    </tr>\n",
       "  </thead>\n",
       "  <tbody>\n",
       "    <tr>\n",
       "      <th>1</th>\n",
       "      <td>C0002</td>\n",
       "      <td>Elizabeth Lutz</td>\n",
       "      <td>Asia</td>\n",
       "      <td>NaT</td>\n",
       "    </tr>\n",
       "    <tr>\n",
       "      <th>4</th>\n",
       "      <td>C0005</td>\n",
       "      <td>Laura Weber</td>\n",
       "      <td>Asia</td>\n",
       "      <td>NaT</td>\n",
       "    </tr>\n",
       "    <tr>\n",
       "      <th>6</th>\n",
       "      <td>C0007</td>\n",
       "      <td>Paul Graves</td>\n",
       "      <td>Asia</td>\n",
       "      <td>NaT</td>\n",
       "    </tr>\n",
       "    <tr>\n",
       "      <th>7</th>\n",
       "      <td>C0008</td>\n",
       "      <td>David Li</td>\n",
       "      <td>North America</td>\n",
       "      <td>NaT</td>\n",
       "    </tr>\n",
       "    <tr>\n",
       "      <th>8</th>\n",
       "      <td>C0009</td>\n",
       "      <td>Joy Clark</td>\n",
       "      <td>Europe</td>\n",
       "      <td>NaT</td>\n",
       "    </tr>\n",
       "    <tr>\n",
       "      <th>...</th>\n",
       "      <td>...</td>\n",
       "      <td>...</td>\n",
       "      <td>...</td>\n",
       "      <td>...</td>\n",
       "    </tr>\n",
       "    <tr>\n",
       "      <th>189</th>\n",
       "      <td>C0190</td>\n",
       "      <td>Alexander Lowe</td>\n",
       "      <td>South America</td>\n",
       "      <td>NaT</td>\n",
       "    </tr>\n",
       "    <tr>\n",
       "      <th>191</th>\n",
       "      <td>C0192</td>\n",
       "      <td>Sarah Arias</td>\n",
       "      <td>South America</td>\n",
       "      <td>NaT</td>\n",
       "    </tr>\n",
       "    <tr>\n",
       "      <th>194</th>\n",
       "      <td>C0195</td>\n",
       "      <td>Jeremy Mclaughlin</td>\n",
       "      <td>South America</td>\n",
       "      <td>NaT</td>\n",
       "    </tr>\n",
       "    <tr>\n",
       "      <th>196</th>\n",
       "      <td>C0197</td>\n",
       "      <td>Christina Harvey</td>\n",
       "      <td>Europe</td>\n",
       "      <td>NaT</td>\n",
       "    </tr>\n",
       "    <tr>\n",
       "      <th>197</th>\n",
       "      <td>C0198</td>\n",
       "      <td>Rebecca Ray</td>\n",
       "      <td>Europe</td>\n",
       "      <td>NaT</td>\n",
       "    </tr>\n",
       "  </tbody>\n",
       "</table>\n",
       "<p>121 rows × 4 columns</p>\n",
       "</div>"
      ],
      "text/plain": [
       "    CustomerID       CustomerName         Region SignupDate\n",
       "1        C0002     Elizabeth Lutz           Asia        NaT\n",
       "4        C0005        Laura Weber           Asia        NaT\n",
       "6        C0007        Paul Graves           Asia        NaT\n",
       "7        C0008           David Li  North America        NaT\n",
       "8        C0009          Joy Clark         Europe        NaT\n",
       "..         ...                ...            ...        ...\n",
       "189      C0190     Alexander Lowe  South America        NaT\n",
       "191      C0192        Sarah Arias  South America        NaT\n",
       "194      C0195  Jeremy Mclaughlin  South America        NaT\n",
       "196      C0197   Christina Harvey         Europe        NaT\n",
       "197      C0198        Rebecca Ray         Europe        NaT\n",
       "\n",
       "[121 rows x 4 columns]"
      ]
     },
     "execution_count": 147,
     "metadata": {},
     "output_type": "execute_result"
    }
   ],
   "source": [
    "# Convert 'SignupDate' to datetime format in the Customers dataset\n",
    "customers['SignupDate'] = pd.to_datetime(customers['SignupDate'], errors='coerce')\n",
    "\n",
    "customers[customers['SignupDate'].isna()]\n",
    "\n"
   ]
  },
  {
   "cell_type": "code",
   "execution_count": 148,
   "metadata": {},
   "outputs": [
    {
     "data": {
      "text/plain": [
       "0   2022-10-07\n",
       "1          NaT\n",
       "2   2024-07-03\n",
       "3   2022-09-10\n",
       "4          NaT\n",
       "Name: SignupDate, dtype: datetime64[ns]"
      ]
     },
     "execution_count": 148,
     "metadata": {},
     "output_type": "execute_result"
    }
   ],
   "source": [
    "\n",
    "# Inspect the 'SignupDate' column\n",
    "customers['SignupDate'].head()\n",
    "\n",
    "\n",
    "\n",
    "\n"
   ]
  },
  {
   "cell_type": "code",
   "execution_count": 149,
   "metadata": {},
   "outputs": [
    {
     "data": {
      "text/html": [
       "<div>\n",
       "<style scoped>\n",
       "    .dataframe tbody tr th:only-of-type {\n",
       "        vertical-align: middle;\n",
       "    }\n",
       "\n",
       "    .dataframe tbody tr th {\n",
       "        vertical-align: top;\n",
       "    }\n",
       "\n",
       "    .dataframe thead th {\n",
       "        text-align: right;\n",
       "    }\n",
       "</style>\n",
       "<table border=\"1\" class=\"dataframe\">\n",
       "  <thead>\n",
       "    <tr style=\"text-align: right;\">\n",
       "      <th></th>\n",
       "      <th>CustomerID</th>\n",
       "      <th>CustomerName</th>\n",
       "      <th>Region</th>\n",
       "      <th>SignupDate</th>\n",
       "    </tr>\n",
       "  </thead>\n",
       "  <tbody>\n",
       "    <tr>\n",
       "      <th>1</th>\n",
       "      <td>C0002</td>\n",
       "      <td>Elizabeth Lutz</td>\n",
       "      <td>Asia</td>\n",
       "      <td>NaT</td>\n",
       "    </tr>\n",
       "    <tr>\n",
       "      <th>4</th>\n",
       "      <td>C0005</td>\n",
       "      <td>Laura Weber</td>\n",
       "      <td>Asia</td>\n",
       "      <td>NaT</td>\n",
       "    </tr>\n",
       "    <tr>\n",
       "      <th>6</th>\n",
       "      <td>C0007</td>\n",
       "      <td>Paul Graves</td>\n",
       "      <td>Asia</td>\n",
       "      <td>NaT</td>\n",
       "    </tr>\n",
       "    <tr>\n",
       "      <th>7</th>\n",
       "      <td>C0008</td>\n",
       "      <td>David Li</td>\n",
       "      <td>North America</td>\n",
       "      <td>NaT</td>\n",
       "    </tr>\n",
       "    <tr>\n",
       "      <th>8</th>\n",
       "      <td>C0009</td>\n",
       "      <td>Joy Clark</td>\n",
       "      <td>Europe</td>\n",
       "      <td>NaT</td>\n",
       "    </tr>\n",
       "    <tr>\n",
       "      <th>...</th>\n",
       "      <td>...</td>\n",
       "      <td>...</td>\n",
       "      <td>...</td>\n",
       "      <td>...</td>\n",
       "    </tr>\n",
       "    <tr>\n",
       "      <th>189</th>\n",
       "      <td>C0190</td>\n",
       "      <td>Alexander Lowe</td>\n",
       "      <td>South America</td>\n",
       "      <td>NaT</td>\n",
       "    </tr>\n",
       "    <tr>\n",
       "      <th>191</th>\n",
       "      <td>C0192</td>\n",
       "      <td>Sarah Arias</td>\n",
       "      <td>South America</td>\n",
       "      <td>NaT</td>\n",
       "    </tr>\n",
       "    <tr>\n",
       "      <th>194</th>\n",
       "      <td>C0195</td>\n",
       "      <td>Jeremy Mclaughlin</td>\n",
       "      <td>South America</td>\n",
       "      <td>NaT</td>\n",
       "    </tr>\n",
       "    <tr>\n",
       "      <th>196</th>\n",
       "      <td>C0197</td>\n",
       "      <td>Christina Harvey</td>\n",
       "      <td>Europe</td>\n",
       "      <td>NaT</td>\n",
       "    </tr>\n",
       "    <tr>\n",
       "      <th>197</th>\n",
       "      <td>C0198</td>\n",
       "      <td>Rebecca Ray</td>\n",
       "      <td>Europe</td>\n",
       "      <td>NaT</td>\n",
       "    </tr>\n",
       "  </tbody>\n",
       "</table>\n",
       "<p>121 rows × 4 columns</p>\n",
       "</div>"
      ],
      "text/plain": [
       "    CustomerID       CustomerName         Region SignupDate\n",
       "1        C0002     Elizabeth Lutz           Asia        NaT\n",
       "4        C0005        Laura Weber           Asia        NaT\n",
       "6        C0007        Paul Graves           Asia        NaT\n",
       "7        C0008           David Li  North America        NaT\n",
       "8        C0009          Joy Clark         Europe        NaT\n",
       "..         ...                ...            ...        ...\n",
       "189      C0190     Alexander Lowe  South America        NaT\n",
       "191      C0192        Sarah Arias  South America        NaT\n",
       "194      C0195  Jeremy Mclaughlin  South America        NaT\n",
       "196      C0197   Christina Harvey         Europe        NaT\n",
       "197      C0198        Rebecca Ray         Europe        NaT\n",
       "\n",
       "[121 rows x 4 columns]"
      ]
     },
     "execution_count": 149,
     "metadata": {},
     "output_type": "execute_result"
    }
   ],
   "source": [
    "#  converting 'SignupDate' to datetime format\n",
    "customers['SignupDate'] = pd.to_datetime(customers['SignupDate'], errors='coerce')\n",
    "# Checking for any invalid date entries after conversion\n",
    "customers[customers['SignupDate'].isna()]"
   ]
  },
  {
   "cell_type": "markdown",
   "metadata": {},
   "source": [
    "4. DATA VISUALIZATION"
   ]
  },
  {
   "cell_type": "code",
   "execution_count": 152,
   "metadata": {},
   "outputs": [
    {
     "name": "stdout",
     "output_type": "stream",
     "text": [
      "  CustomerID        CustomerName         Region  SignupDate\n",
      "0      C0001    Lawrence Carroll  South America  10-07-2022\n",
      "1      C0002      Elizabeth Lutz           Asia  13-02-2022\n",
      "2      C0003      Michael Rivera  South America  07-03-2024\n",
      "3      C0004  Kathleen Rodriguez  South America  09-10-2022\n",
      "4      C0005         Laura Weber           Asia  15-08-2022\n",
      "Index(['CustomerID', 'CustomerName', 'Region', 'SignupDate'], dtype='object')\n"
     ]
    },
    {
     "name": "stderr",
     "output_type": "stream",
     "text": [
      "C:\\Users\\kurra\\AppData\\Local\\Temp\\ipykernel_14936\\1758361236.py:13: FutureWarning: \n",
      "\n",
      "Passing `palette` without assigning `hue` is deprecated and will be removed in v0.14.0. Assign the `x` variable to `hue` and set `legend=False` for the same effect.\n",
      "\n",
      "  sns.countplot(data=customers, x='Region', palette='viridis')  # Ploting countplot for 'Region'\n"
     ]
    },
    {
     "data": {
      "image/png": "[encoded data removed]",
      "text/plain": [
       "<Figure size 1200x800 with 1 Axes>"
      ]
     },
     "metadata": {},
     "output_type": "display_data"
    }
   ],
   "source": [
    "#Plotting the Distribution of customers by Region\n",
    "\n",
    "\n",
    "# Load the dataset \n",
    "customers = pd.read_csv('Customers.csv')\n",
    "\n",
    "# Checking the first few rows and columns to verify the data\n",
    "print(customers.head())\n",
    "print(customers.columns)\n",
    "\n",
    "# Plotting the distribution of customers by region\n",
    "plt.figure(figsize=(12, 8))                                   # Set the figure size\n",
    "sns.countplot(data=customers, x='Region', palette='viridis')  # Ploting countplot for 'Region'\n",
    "plt.title(\"Distribution of Customers by Region\")              # Title of the plot\n",
    "plt.xlabel('Region')                                          # X-axis label\n",
    "plt.ylabel('Number of Customers')                             # Y-axis label\n",
    "plt.show()                                                    # Display the plot\n"
   ]
  },
  {
   "cell_type": "code",
   "execution_count": 100,
   "metadata": {},
   "outputs": [
    {
     "data": {
      "image/png": "[encoded data removed]",
      "text/plain": [
       "<Figure size 1000x600 with 1 Axes>"
      ]
     },
     "metadata": {},
     "output_type": "display_data"
    }
   ],
   "source": [
    "\n",
    "# Plot the countplot\n",
    "plt.figure(figsize=(10, 6))\n",
    "ax = sns.countplot(data=customers, x='Region')\n",
    "\n",
    "# Accessing the first container (which contains the bars)\n",
    "for container in ax.containers:\n",
    "    for bar in container:\n",
    "        # Customize the color of the bars (example: changing color to blue)\n",
    "        bar.set_color('skyblue')\n",
    "        \n",
    "        # Adding annotations on top of the bars (example: displaying the height)\n",
    "        height = bar.get_height()\n",
    "        ax.annotate(f'{height}', \n",
    "                    xy=(bar.get_x() + bar.get_width() / 2, height), \n",
    "                    xytext=(0, 5),                                  # Adjusting the vertical position of the annotation\n",
    "                    textcoords=\"offset points\", \n",
    "                    ha='center', \n",
    "                    va='bottom',                                    # Placing the annotation above the bar\n",
    "                    fontsize=12)\n",
    "\n",
    "# Add a title and labels\n",
    "plt.title(\"Distribution of Customers by Region\")\n",
    "plt.xlabel('Region')\n",
    "plt.ylabel('Number of Customers')\n",
    "\n",
    "# Show the plot\n",
    "plt.show()\n"
   ]
  },
  {
   "cell_type": "markdown",
   "metadata": {},
   "source": [
    "PLOTTING THE DISTRIBUTION OF TRANSCATION VALUES"
   ]
  },
  {
   "cell_type": "code",
   "execution_count": 153,
   "metadata": {},
   "outputs": [
    {
     "name": "stdout",
     "output_type": "stream",
     "text": [
      "  TransactionID CustomerID ProductID   TransactionDate  Quantity  TotalValue  \\\n",
      "0        T00001      C0199      P067  25-08-2024 12:38         1      300.68   \n",
      "1        T00112      C0146      P067  27-05-2024 22:23         1      300.68   \n",
      "2        T00166      C0127      P067  25-04-2024 07:38         1      300.68   \n",
      "3        T00272      C0087      P067  26-03-2024 22:55         2      601.36   \n",
      "4        T00363      C0070      P067  21-03-2024 15:10         3      902.04   \n",
      "\n",
      "    Price  \n",
      "0  300.68  \n",
      "1  300.68  \n",
      "2  300.68  \n",
      "3  300.68  \n",
      "4  300.68  \n",
      "Index(['TransactionID', 'CustomerID', 'ProductID', 'TransactionDate',\n",
      "       'Quantity', 'TotalValue', 'Price'],\n",
      "      dtype='object')\n"
     ]
    },
    {
     "data": {
      "image/png": "[encoded data removed]",
      "text/plain": [
       "<Figure size 1000x600 with 1 Axes>"
      ]
     },
     "metadata": {},
     "output_type": "display_data"
    }
   ],
   "source": [
    "\n",
    "# Load the correct transactions dataset\n",
    "transactions = pd.read_csv('Transactions.csv')\n",
    "\n",
    "# Checking the first few rows and column names to ensure 'TotalValue' exists\n",
    "print(transactions.head())\n",
    "print(transactions.columns)\n",
    "\n",
    "# Plotting the distribution of transaction total values\n",
    "plt.figure(figsize=(10, 6))\n",
    "sns.histplot(transactions['TotalValue'], kde=True)\n",
    "plt.title(\"Distribution of Transaction Total Values\")\n",
    "plt.xlabel('Total Value (USD)')\n",
    "plt.ylabel('Frequency')\n",
    "plt.show()\n",
    "\n"
   ]
  },
  {
   "cell_type": "code",
   "execution_count": 154,
   "metadata": {},
   "outputs": [
    {
     "name": "stdout",
     "output_type": "stream",
     "text": [
      "datetime64[ns]\n",
      "Found invalid dates:\n",
      "    CustomerID       CustomerName         Region SignupDate\n",
      "1        C0002     Elizabeth Lutz           Asia        NaT\n",
      "4        C0005        Laura Weber           Asia        NaT\n",
      "6        C0007        Paul Graves           Asia        NaT\n",
      "7        C0008           David Li  North America        NaT\n",
      "8        C0009          Joy Clark         Europe        NaT\n",
      "..         ...                ...            ...        ...\n",
      "189      C0190     Alexander Lowe  South America        NaT\n",
      "191      C0192        Sarah Arias  South America        NaT\n",
      "194      C0195  Jeremy Mclaughlin  South America        NaT\n",
      "196      C0197   Christina Harvey         Europe        NaT\n",
      "197      C0198        Rebecca Ray         Europe        NaT\n",
      "\n",
      "[121 rows x 4 columns]\n"
     ]
    },
    {
     "name": "stderr",
     "output_type": "stream",
     "text": [
      "C:\\Users\\kurra\\AppData\\Local\\Temp\\ipykernel_14936\\1736881809.py:18: FutureWarning: \n",
      "\n",
      "Passing `palette` without assigning `hue` is deprecated and will be removed in v0.14.0. Assign the `x` variable to `hue` and set `legend=False` for the same effect.\n",
      "\n",
      "  sns.countplot(data=customers, x='SignupYear', palette='inferno')\n"
     ]
    },
    {
     "data": {
      "image/png": "[encoded data removed]",
      "text/plain": [
       "<Figure size 800x600 with 1 Axes>"
      ]
     },
     "metadata": {},
     "output_type": "display_data"
    }
   ],
   "source": [
    "\n",
    "# Converting 'SignupDate' to datetime\n",
    "customers['SignupDate'] = pd.to_datetime(customers['SignupDate'], errors='coerce')\n",
    "\n",
    "# Check if the conversion was successful\n",
    "print(customers['SignupDate'].dtype)  # Should show 'datetime64[ns]'\n",
    "\n",
    "# Handling invalid or missing dates (if any)\n",
    "invalid_dates = customers[customers['SignupDate'].isna()]\n",
    "if len(invalid_dates) > 0:\n",
    "    print(\"Found invalid dates:\")\n",
    "    print(invalid_dates)\n",
    "\n",
    "# Adding a 'SignupYear' column after conversion\n",
    "customers['SignupYear'] = customers['SignupDate'].dt.year\n",
    "\n",
    "# Plotting the number of customers signing up by year\n",
    "plt.figure(figsize=(8, 6))\n",
    "sns.countplot(data=customers, x='SignupYear', palette='inferno')\n",
    "plt.title(\"Customer Signups by Year\")\n",
    "plt.xlabel('Year')\n",
    "plt.ylabel('Number of Signups')\n",
    "plt.show()\n",
    "\n"
   ]
  },
  {
   "cell_type": "code",
   "execution_count": 155,
   "metadata": {},
   "outputs": [
    {
     "name": "stdout",
     "output_type": "stream",
     "text": [
      "datetime64[ns]\n",
      "Number of missing dates: 0\n"
     ]
    },
    {
     "name": "stderr",
     "output_type": "stream",
     "text": [
      "C:\\Users\\kurra\\AppData\\Local\\Temp\\ipykernel_14936\\1367300067.py:2: UserWarning: Parsing dates in %d-%m-%Y %H:%M format when dayfirst=False (the default) was specified. Pass `dayfirst=True` or specify a format to silence this warning.\n",
      "  transactions['TransactionDate'] = pd.to_datetime(transactions['TransactionDate'], errors='coerce')\n"
     ]
    },
    {
     "data": {
      "image/png": "[encoded data removed]",
      "text/plain": [
       "<Figure size 1000x600 with 1 Axes>"
      ]
     },
     "metadata": {},
     "output_type": "display_data"
    }
   ],
   "source": [
    "\n",
    "# Convert 'TransactionDate' to datetime\n",
    "transactions['TransactionDate'] = pd.to_datetime(transactions['TransactionDate'], errors='coerce')\n",
    "\n",
    "# Check if the conversion was successful and if there are any missing dates\n",
    "print(transactions['TransactionDate'].dtype) \n",
    "print(\"Number of missing dates:\", transactions['TransactionDate'].isna().sum())\n",
    "\n",
    "\n",
    "# Extracting the month and year from the transaction date\n",
    "transactions['Month'] = transactions['TransactionDate'].dt.month\n",
    "transactions['Year'] = transactions['TransactionDate'].dt.year\n",
    "\n",
    "# Aggregate total sales by month\n",
    "monthly_sales = transactions.groupby('Month')['TotalValue'].sum()\n",
    "\n",
    "# Plotting total sales by month\n",
    "plt.figure(figsize=(10,6))\n",
    "sns.lineplot(x=monthly_sales.index, y=monthly_sales.values)\n",
    "plt.title(\"Monthly Total Sales\")\n",
    "plt.xlabel('Month')\n",
    "plt.ylabel('Total Sales Value')\n",
    "\n",
    "# Format x-axis to show month names instead of numbers\n",
    "month_names = ['January', 'February', 'March', 'April', 'May', 'June', 'July', 'August', 'September', 'October', 'November', 'December']\n",
    "plt.xticks(ticks=range(12), labels=month_names, rotation=45)\n",
    "\n",
    "plt.show()\n"
   ]
  }
 ],
 "metadata": {
  "kernelspec": {
   "display_name": "Python 3",
   "language": "python",
   "name": "python3"
  },
  "language_info": {
   "codemirror_mode": {
    "name": "ipython",
    "version": 3
   },
   "file_extension": ".py",
   "mimetype": "text/x-python",
   "name": "python",
   "nbconvert_exporter": "python",
   "pygments_lexer": "ipython3",
   "version": "3.13.1"
  }
 },
 "nbformat": 4,
 "nbformat_minor": 2
}
